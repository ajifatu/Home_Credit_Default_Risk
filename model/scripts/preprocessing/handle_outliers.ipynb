{
 "cells": [
  {
   "cell_type": "code",
   "execution_count": null,
   "metadata": {
    "vscode": {
     "languageId": "plaintext"
    }
   },
   "outputs": [],
   "source": [
    "import pandas as pd\n",
    "import numpy as np\n",
    "\n",
    "def remove_outliers(df, method='iqr', threshold=1.5, z_thresh=3):\n",
    "    \"\"\"\n",
    "    Supprime les valeurs aberrantes d'un DataFrame en utilisant IQR ou Z-score.\n",
    "    \n",
    "    Paramètres:\n",
    "    df : pd.DataFrame\n",
    "        DataFrame d'entrée contenant des colonnes numériques.\n",
    "    method : str, optional\n",
    "        Méthode pour détecter les outliers ('iqr' pour intervalle interquartile, 'zscore' pour Z-score).\n",
    "    threshold : float, optional\n",
    "        Facteur de seuil pour la méthode IQR (par défaut 1.5).\n",
    "    z_thresh : float, optional\n",
    "        Seuil du Z-score pour la méthode Z-score (par défaut 3).\n",
    "    Retourne:\n",
    "    pd.DataFrame\n",
    "        DataFrame nettoyé sans valeurs aberrantes.\n",
    "    \"\"\"\n",
    "    df_clean = df.copy()\n",
    "    \n",
    "    for col in df_clean.select_dtypes(include=[np.number]):  # Sélectionner uniquement les colonnes numériques\n",
    "        if method == 'iqr':\n",
    "            Q1 = df_clean[col].quantile(0.25)\n",
    "            Q3 = df_clean[col].quantile(0.75)\n",
    "            IQR = Q3 - Q1\n",
    "            lower_bound = Q1 - threshold * IQR\n",
    "            upper_bound = Q3 + threshold * IQR\n",
    "            df_clean = df_clean[(df_clean[col] >= lower_bound) & (df_clean[col] <= upper_bound)]\n",
    "        \n",
    "        elif method == 'zscore':\n",
    "            z_scores = (df_clean[col] - df_clean[col].mean()) / df_clean[col].std()\n",
    "            df_clean = df_clean[np.abs(z_scores) <= z_thresh]\n",
    "    \n",
    "    return df_clean\n",
    "\n",
    "# Exemple d'utilisation\n",
    "df = pd.DataFrame({'A': [1, 2, 3, 100, 5], 'B': [10, 20, 30, 40, 500]})\n",
    "df_cleaned = remove_outliers(df, method='iqr')\n",
    "print(df_cleaned)\n"
   ]
  },
  {
   "cell_type": "code",
   "execution_count": null,
   "metadata": {
    "vscode": {
     "languageId": "plaintext"
    }
   },
   "outputs": [],
   "source": [
    "# df = pd.read_csv('test.csv')\n",
    "# df_cleaned = remove_outliers(df, method='iqr')\n",
    "# print(df_cleaned)"
   ]
  }
 ],
 "metadata": {
  "language_info": {
   "name": "python"
  }
 },
 "nbformat": 4,
 "nbformat_minor": 2
}
